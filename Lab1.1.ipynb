{
 "cells": [
  {
   "cell_type": "markdown",
   "id": "4e733e74",
   "metadata": {},
   "source": [
    "# Lab 1.1 - Cleaning and Analyzing Warehouse Data\n",
    "\n",
    "## Objective\n",
    "1. Import a CSV dataset using `pandas`\n",
    "2. Clean the dataset using multiple techniques\n",
    "3. Answer questions about using the data. \n",
    "\n",
    "*Use the challenge dataset to practice cleaning with regex.*\n",
    "\n",
    "## Rubric\n",
    "\n",
    "- 6 pts - Contains all required components and uses professional language\n",
    "- 5 pts - Contains all required components, but uses unprofessional language, formating, etc. \n",
    "- 4 pts - Contains some, but not all, of the required components\n",
    "- 3 pts - Did not submit\n",
    "\n",
    "## Pandas reference\n",
    "\n",
    "In addtion to the methods you learned last lab, you may need the following: \n",
    "\n",
    "- `df.dtypes` - the data types of the each column\n",
    "- `df.columns` - the name of each column\n",
    "- `df.shape` - the number of rows and columns of the dataset\n",
    "- `df.dropna()` - removes null values\n",
    "- `pd.todatetime(...)` - sets a given column to a `datetime` object\n",
    "- `df.column.isunique` - returns True if all data are unique\n",
    "- `df.column.unique()` - returns all of the uniue values of a column\n",
    "- `df['col'].replace(...,...)` - replaces values in a column with another value\n",
    "- `df['col'].value_counts()` - returns the value counts of each unique value\n",
    "- `df['col'].quantile(0.25) or .quartile(0.75) ` - returns the value at 25% or 75% precent    "
   ]
  },
  {
   "cell_type": "markdown",
   "id": "28f150c5",
   "metadata": {},
   "source": [
    "## Preparing Data\n",
    "\n",
    "In this section, we will import and prepare our data to be manipulated"
   ]
  },
  {
   "cell_type": "markdown",
   "id": "52ada7d4",
   "metadata": {
    "papermill": {
     "duration": 0.038675,
     "end_time": "2021-09-30T10:46:31.298979",
     "exception": false,
     "start_time": "2021-09-30T10:46:31.260304",
     "status": "completed"
    },
    "tags": []
   },
   "source": [
    "Import `pandas` and `matploutlib,pyplot` here."
   ]
  },
  {
   "cell_type": "code",
   "execution_count": 2,
   "id": "1f06bfd9",
   "metadata": {
    "_cell_guid": "b1076dfc-b9ad-4769-8c92-a6c4dae69d19",
    "_kg_hide-output": true,
    "_uuid": "8f2839f25d086af736a60e9eeb907d3b93b6e0e5",
    "execution": {
     "iopub.execute_input": "2021-09-30T10:46:31.398020Z",
     "iopub.status.busy": "2021-09-30T10:46:31.397426Z",
     "iopub.status.idle": "2021-09-30T10:46:32.326129Z",
     "shell.execute_reply": "2021-09-30T10:46:32.326865Z",
     "shell.execute_reply.started": "2021-09-30T10:33:53.316413Z"
    },
    "papermill": {
     "duration": 0.985961,
     "end_time": "2021-09-30T10:46:32.327246",
     "exception": false,
     "start_time": "2021-09-30T10:46:31.341285",
     "status": "completed"
    },
    "tags": []
   },
   "outputs": [],
   "source": [
    "import pandas as pd \n",
    "import matplotlib.pyplot as plt\n"
   ]
  },
  {
   "cell_type": "markdown",
   "id": "0fbe1e52",
   "metadata": {
    "papermill": {
     "duration": 0.037963,
     "end_time": "2021-09-30T10:46:32.488863",
     "exception": false,
     "start_time": "2021-09-30T10:46:32.450900",
     "status": "completed"
    },
    "tags": []
   },
   "source": [
    "Use `pandas`' `read_csv()` to create a Dataframe called `warehouse`."
   ]
  },
  {
   "cell_type": "code",
   "execution_count": 3,
   "id": "c66adbd8",
   "metadata": {
    "execution": {
     "iopub.execute_input": "2021-09-30T10:46:32.570378Z",
     "iopub.status.busy": "2021-09-30T10:46:32.569557Z",
     "iopub.status.idle": "2021-09-30T10:46:32.590102Z",
     "shell.execute_reply": "2021-09-30T10:46:32.590545Z",
     "shell.execute_reply.started": "2021-09-30T10:34:04.717767Z"
    },
    "papermill": {
     "duration": 0.063675,
     "end_time": "2021-09-30T10:46:32.590736",
     "exception": false,
     "start_time": "2021-09-30T10:46:32.527061",
     "status": "completed"
    },
    "tags": []
   },
   "outputs": [],
   "source": [
    "data = pd.read_csv('warehouse_data.csv')"
   ]
  },
  {
   "cell_type": "markdown",
   "id": "c65992ea",
   "metadata": {},
   "source": [
    "Display the first 5 rows of `warehouse`."
   ]
  },
  {
   "cell_type": "code",
   "execution_count": 4,
   "id": "74ba8589",
   "metadata": {
    "execution": {
     "iopub.execute_input": "2021-09-30T10:46:32.677156Z",
     "iopub.status.busy": "2021-09-30T10:46:32.676562Z",
     "iopub.status.idle": "2021-09-30T10:46:32.701387Z",
     "shell.execute_reply": "2021-09-30T10:46:32.701908Z",
     "shell.execute_reply.started": "2021-09-30T10:34:06.514277Z"
    },
    "papermill": {
     "duration": 0.073154,
     "end_time": "2021-09-30T10:46:32.702068",
     "exception": false,
     "start_time": "2021-09-30T10:46:32.628914",
     "status": "completed"
    },
    "tags": []
   },
   "outputs": [
    {
     "data": {
      "text/html": [
       "<div>\n",
       "<style scoped>\n",
       "    .dataframe tbody tr th:only-of-type {\n",
       "        vertical-align: middle;\n",
       "    }\n",
       "\n",
       "    .dataframe tbody tr th {\n",
       "        vertical-align: top;\n",
       "    }\n",
       "\n",
       "    .dataframe thead th {\n",
       "        text-align: right;\n",
       "    }\n",
       "</style>\n",
       "<table border=\"1\" class=\"dataframe\">\n",
       "  <thead>\n",
       "    <tr style=\"text-align: right;\">\n",
       "      <th></th>\n",
       "      <th>order_id</th>\n",
       "      <th>customer_id</th>\n",
       "      <th>date</th>\n",
       "      <th>nearest_warehouse</th>\n",
       "      <th>shopping_cart</th>\n",
       "      <th>order_price</th>\n",
       "      <th>delivery_charges</th>\n",
       "      <th>customer_lat</th>\n",
       "      <th>customer_long</th>\n",
       "      <th>coupon_discount</th>\n",
       "      <th>order_total</th>\n",
       "      <th>season</th>\n",
       "      <th>is_expedited_delivery</th>\n",
       "      <th>distance_to_nearest_warehouse</th>\n",
       "      <th>latest_customer_review</th>\n",
       "      <th>is_happy_customer</th>\n",
       "    </tr>\n",
       "  </thead>\n",
       "  <tbody>\n",
       "    <tr>\n",
       "      <th>0</th>\n",
       "      <td>ORD182494</td>\n",
       "      <td>ID6197211592</td>\n",
       "      <td>2019-06-22</td>\n",
       "      <td>Thompson</td>\n",
       "      <td>[('Lucent 330S', 1), ('Thunder line', 2), ('iS...</td>\n",
       "      <td>12200</td>\n",
       "      <td>79.89</td>\n",
       "      <td>-37.815105</td>\n",
       "      <td>144.932843</td>\n",
       "      <td>10</td>\n",
       "      <td>11059.89</td>\n",
       "      <td>Winter</td>\n",
       "      <td>True</td>\n",
       "      <td>1.2800</td>\n",
       "      <td>perfect phone and trusted seller. phone itself...</td>\n",
       "      <td>True</td>\n",
       "    </tr>\n",
       "    <tr>\n",
       "      <th>1</th>\n",
       "      <td>ORD395518</td>\n",
       "      <td>ID0282825849</td>\n",
       "      <td>2019-12-29</td>\n",
       "      <td>Thompson</td>\n",
       "      <td>[('Thunder line', 1), ('Universe Note', 2)]</td>\n",
       "      <td>9080</td>\n",
       "      <td>62.71</td>\n",
       "      <td>-37.802736</td>\n",
       "      <td>144.951118</td>\n",
       "      <td>0</td>\n",
       "      <td>9142.71</td>\n",
       "      <td>Summer</td>\n",
       "      <td>False</td>\n",
       "      <td>1.1621</td>\n",
       "      <td>it keeps dropping calls the wifi don't work th...</td>\n",
       "      <td>False</td>\n",
       "    </tr>\n",
       "    <tr>\n",
       "      <th>2</th>\n",
       "      <td>ORD494479</td>\n",
       "      <td>ID0579391891</td>\n",
       "      <td>2019-03-02</td>\n",
       "      <td>Nickolson</td>\n",
       "      <td>[('Thunder line', 1), ('pearTV', 2)]</td>\n",
       "      <td>10670</td>\n",
       "      <td>65.87</td>\n",
       "      <td>-37.821302</td>\n",
       "      <td>144.957581</td>\n",
       "      <td>10</td>\n",
       "      <td>9668.87</td>\n",
       "      <td>Autumn</td>\n",
       "      <td>False</td>\n",
       "      <td>1.0949</td>\n",
       "      <td>five stars this is a great cheap phone.</td>\n",
       "      <td>True</td>\n",
       "    </tr>\n",
       "    <tr>\n",
       "      <th>3</th>\n",
       "      <td>ORD019224</td>\n",
       "      <td>ID4544561904</td>\n",
       "      <td>2019-01-12</td>\n",
       "      <td>Nickolson</td>\n",
       "      <td>[('Universe Note', 1), ('Alcon 10', 2), ('Oliv...</td>\n",
       "      <td>24800</td>\n",
       "      <td>57.61</td>\n",
       "      <td>-37.811416</td>\n",
       "      <td>144.973073</td>\n",
       "      <td>15</td>\n",
       "      <td>21137.61</td>\n",
       "      <td>Summer</td>\n",
       "      <td>False</td>\n",
       "      <td>0.8571</td>\n",
       "      <td>charger did not fit the charger didn't fit.</td>\n",
       "      <td>False</td>\n",
       "    </tr>\n",
       "    <tr>\n",
       "      <th>4</th>\n",
       "      <td>ORD104032</td>\n",
       "      <td>ID6231506320</td>\n",
       "      <td>2019-11-28</td>\n",
       "      <td>Nickolson</td>\n",
       "      <td>[('Universe Note', 1), ('Olivia x460', 1), ('i...</td>\n",
       "      <td>9145</td>\n",
       "      <td>75.54</td>\n",
       "      <td>37.823859</td>\n",
       "      <td>144.969892</td>\n",
       "      <td>25</td>\n",
       "      <td>6934.29</td>\n",
       "      <td>Spring</td>\n",
       "      <td>False</td>\n",
       "      <td>0.5867</td>\n",
       "      <td>four stars good</td>\n",
       "      <td>True</td>\n",
       "    </tr>\n",
       "  </tbody>\n",
       "</table>\n",
       "</div>"
      ],
      "text/plain": [
       "    order_id   customer_id        date nearest_warehouse  \\\n",
       "0  ORD182494  ID6197211592  2019-06-22          Thompson   \n",
       "1  ORD395518  ID0282825849  2019-12-29          Thompson   \n",
       "2  ORD494479  ID0579391891  2019-03-02         Nickolson   \n",
       "3  ORD019224  ID4544561904  2019-01-12         Nickolson   \n",
       "4  ORD104032  ID6231506320  2019-11-28         Nickolson   \n",
       "\n",
       "                                       shopping_cart  order_price  \\\n",
       "0  [('Lucent 330S', 1), ('Thunder line', 2), ('iS...        12200   \n",
       "1        [('Thunder line', 1), ('Universe Note', 2)]         9080   \n",
       "2               [('Thunder line', 1), ('pearTV', 2)]        10670   \n",
       "3  [('Universe Note', 1), ('Alcon 10', 2), ('Oliv...        24800   \n",
       "4  [('Universe Note', 1), ('Olivia x460', 1), ('i...         9145   \n",
       "\n",
       "   delivery_charges  customer_lat  customer_long  coupon_discount  \\\n",
       "0             79.89    -37.815105     144.932843               10   \n",
       "1             62.71    -37.802736     144.951118                0   \n",
       "2             65.87    -37.821302     144.957581               10   \n",
       "3             57.61    -37.811416     144.973073               15   \n",
       "4             75.54     37.823859     144.969892               25   \n",
       "\n",
       "   order_total  season  is_expedited_delivery  distance_to_nearest_warehouse  \\\n",
       "0     11059.89  Winter                   True                         1.2800   \n",
       "1      9142.71  Summer                  False                         1.1621   \n",
       "2      9668.87  Autumn                  False                         1.0949   \n",
       "3     21137.61  Summer                  False                         0.8571   \n",
       "4      6934.29  Spring                  False                         0.5867   \n",
       "\n",
       "                              latest_customer_review  is_happy_customer  \n",
       "0  perfect phone and trusted seller. phone itself...               True  \n",
       "1  it keeps dropping calls the wifi don't work th...              False  \n",
       "2            five stars this is a great cheap phone.               True  \n",
       "3        charger did not fit the charger didn't fit.              False  \n",
       "4                                    four stars good               True  "
      ]
     },
     "execution_count": 4,
     "metadata": {},
     "output_type": "execute_result"
    }
   ],
   "source": [
    "data.head(5)"
   ]
  },
  {
   "cell_type": "markdown",
   "id": "20d3f58e",
   "metadata": {
    "papermill": {
     "duration": 0.038452,
     "end_time": "2021-09-30T10:46:32.778461",
     "exception": false,
     "start_time": "2021-09-30T10:46:32.740009",
     "status": "completed"
    },
    "tags": []
   },
   "source": [
    "Display the column names of the Dataframe. "
   ]
  },
  {
   "cell_type": "code",
   "execution_count": 5,
   "id": "88260be2",
   "metadata": {},
   "outputs": [
    {
     "data": {
      "text/plain": [
       "Index(['order_id', 'customer_id', 'date', 'nearest_warehouse', 'shopping_cart',\n",
       "       'order_price', 'delivery_charges', 'customer_lat', 'customer_long',\n",
       "       'coupon_discount', 'order_total', 'season', 'is_expedited_delivery',\n",
       "       'distance_to_nearest_warehouse', 'latest_customer_review',\n",
       "       'is_happy_customer'],\n",
       "      dtype='object')"
      ]
     },
     "execution_count": 5,
     "metadata": {},
     "output_type": "execute_result"
    }
   ],
   "source": [
    "data.columns"
   ]
  },
  {
   "cell_type": "markdown",
   "id": "240bc28e",
   "metadata": {},
   "source": [
    "How many data points are in our table?"
   ]
  },
  {
   "cell_type": "code",
   "execution_count": 6,
   "id": "e84243e1",
   "metadata": {
    "execution": {
     "iopub.execute_input": "2021-09-30T10:46:32.974900Z",
     "iopub.status.busy": "2021-09-30T10:46:32.974280Z",
     "iopub.status.idle": "2021-09-30T10:46:32.976661Z",
     "shell.execute_reply": "2021-09-30T10:46:32.977077Z",
     "shell.execute_reply.started": "2021-09-30T10:34:26.853380Z"
    },
    "papermill": {
     "duration": 0.045857,
     "end_time": "2021-09-30T10:46:32.977249",
     "exception": false,
     "start_time": "2021-09-30T10:46:32.931392",
     "status": "completed"
    },
    "tags": []
   },
   "outputs": [
    {
     "data": {
      "text/plain": [
       "order_id                          object\n",
       "customer_id                       object\n",
       "date                              object\n",
       "nearest_warehouse                 object\n",
       "shopping_cart                     object\n",
       "order_price                        int64\n",
       "delivery_charges                 float64\n",
       "customer_lat                     float64\n",
       "customer_long                    float64\n",
       "coupon_discount                    int64\n",
       "order_total                      float64\n",
       "season                            object\n",
       "is_expedited_delivery               bool\n",
       "distance_to_nearest_warehouse    float64\n",
       "latest_customer_review            object\n",
       "is_happy_customer                   bool\n",
       "dtype: object"
      ]
     },
     "execution_count": 6,
     "metadata": {},
     "output_type": "execute_result"
    }
   ],
   "source": [
    "data.dtypes"
   ]
  },
  {
   "cell_type": "markdown",
   "id": "77fc703c",
   "metadata": {},
   "source": [
    "We can use one command to answer these three questions: \n",
    "- What is the average coupon discount?\n",
    "- What is the largest order price?\n",
    "- What is the smallest distance to warehouse?"
   ]
  },
  {
   "cell_type": "code",
   "execution_count": 7,
   "id": "4985109a",
   "metadata": {
    "execution": {
     "iopub.execute_input": "2021-09-30T10:46:32.858973Z",
     "iopub.status.busy": "2021-09-30T10:46:32.858420Z",
     "iopub.status.idle": "2021-09-30T10:46:32.892225Z",
     "shell.execute_reply": "2021-09-30T10:46:32.891765Z",
     "shell.execute_reply.started": "2021-09-30T10:34:11.847867Z"
    },
    "papermill": {
     "duration": 0.075351,
     "end_time": "2021-09-30T10:46:32.892391",
     "exception": false,
     "start_time": "2021-09-30T10:46:32.817040",
     "status": "completed"
    },
    "tags": []
   },
   "outputs": [
    {
     "data": {
      "text/html": [
       "<div>\n",
       "<style scoped>\n",
       "    .dataframe tbody tr th:only-of-type {\n",
       "        vertical-align: middle;\n",
       "    }\n",
       "\n",
       "    .dataframe tbody tr th {\n",
       "        vertical-align: top;\n",
       "    }\n",
       "\n",
       "    .dataframe thead th {\n",
       "        text-align: right;\n",
       "    }\n",
       "</style>\n",
       "<table border=\"1\" class=\"dataframe\">\n",
       "  <thead>\n",
       "    <tr style=\"text-align: right;\">\n",
       "      <th></th>\n",
       "      <th>order_price</th>\n",
       "      <th>delivery_charges</th>\n",
       "      <th>customer_lat</th>\n",
       "      <th>customer_long</th>\n",
       "      <th>coupon_discount</th>\n",
       "      <th>order_total</th>\n",
       "      <th>distance_to_nearest_warehouse</th>\n",
       "    </tr>\n",
       "  </thead>\n",
       "  <tbody>\n",
       "    <tr>\n",
       "      <th>count</th>\n",
       "      <td>500.000000</td>\n",
       "      <td>500.000000</td>\n",
       "      <td>500.000000</td>\n",
       "      <td>500.000000</td>\n",
       "      <td>500.000000</td>\n",
       "      <td>5.000000e+02</td>\n",
       "      <td>500.000000</td>\n",
       "    </tr>\n",
       "    <tr>\n",
       "      <th>mean</th>\n",
       "      <td>25522.216000</td>\n",
       "      <td>76.658200</td>\n",
       "      <td>-35.835234</td>\n",
       "      <td>144.969494</td>\n",
       "      <td>10.890000</td>\n",
       "      <td>3.920967e+04</td>\n",
       "      <td>2.204224</td>\n",
       "    </tr>\n",
       "    <tr>\n",
       "      <th>std</th>\n",
       "      <td>86333.729169</td>\n",
       "      <td>14.481465</td>\n",
       "      <td>12.045393</td>\n",
       "      <td>0.022720</td>\n",
       "      <td>8.649134</td>\n",
       "      <td>2.741940e+05</td>\n",
       "      <td>8.812416</td>\n",
       "    </tr>\n",
       "    <tr>\n",
       "      <th>min</th>\n",
       "      <td>585.000000</td>\n",
       "      <td>46.350000</td>\n",
       "      <td>-37.827123</td>\n",
       "      <td>144.924967</td>\n",
       "      <td>0.000000</td>\n",
       "      <td>6.392900e+02</td>\n",
       "      <td>0.107800</td>\n",
       "    </tr>\n",
       "    <tr>\n",
       "      <th>25%</th>\n",
       "      <td>7050.000000</td>\n",
       "      <td>65.982500</td>\n",
       "      <td>-37.818222</td>\n",
       "      <td>144.953488</td>\n",
       "      <td>5.000000</td>\n",
       "      <td>6.454735e+03</td>\n",
       "      <td>0.751425</td>\n",
       "    </tr>\n",
       "    <tr>\n",
       "      <th>50%</th>\n",
       "      <td>12807.500000</td>\n",
       "      <td>76.310000</td>\n",
       "      <td>-37.812165</td>\n",
       "      <td>144.965357</td>\n",
       "      <td>10.000000</td>\n",
       "      <td>1.129396e+04</td>\n",
       "      <td>1.030100</td>\n",
       "    </tr>\n",
       "    <tr>\n",
       "      <th>75%</th>\n",
       "      <td>20360.000000</td>\n",
       "      <td>82.555000</td>\n",
       "      <td>-37.805364</td>\n",
       "      <td>144.983985</td>\n",
       "      <td>15.000000</td>\n",
       "      <td>1.811919e+04</td>\n",
       "      <td>1.408625</td>\n",
       "    </tr>\n",
       "    <tr>\n",
       "      <th>max</th>\n",
       "      <td>947691.000000</td>\n",
       "      <td>114.040000</td>\n",
       "      <td>37.826339</td>\n",
       "      <td>145.019837</td>\n",
       "      <td>25.000000</td>\n",
       "      <td>5.688270e+06</td>\n",
       "      <td>94.973400</td>\n",
       "    </tr>\n",
       "  </tbody>\n",
       "</table>\n",
       "</div>"
      ],
      "text/plain": [
       "         order_price  delivery_charges  customer_lat  customer_long  \\\n",
       "count     500.000000        500.000000    500.000000     500.000000   \n",
       "mean    25522.216000         76.658200    -35.835234     144.969494   \n",
       "std     86333.729169         14.481465     12.045393       0.022720   \n",
       "min       585.000000         46.350000    -37.827123     144.924967   \n",
       "25%      7050.000000         65.982500    -37.818222     144.953488   \n",
       "50%     12807.500000         76.310000    -37.812165     144.965357   \n",
       "75%     20360.000000         82.555000    -37.805364     144.983985   \n",
       "max    947691.000000        114.040000     37.826339     145.019837   \n",
       "\n",
       "       coupon_discount   order_total  distance_to_nearest_warehouse  \n",
       "count       500.000000  5.000000e+02                     500.000000  \n",
       "mean         10.890000  3.920967e+04                       2.204224  \n",
       "std           8.649134  2.741940e+05                       8.812416  \n",
       "min           0.000000  6.392900e+02                       0.107800  \n",
       "25%           5.000000  6.454735e+03                       0.751425  \n",
       "50%          10.000000  1.129396e+04                       1.030100  \n",
       "75%          15.000000  1.811919e+04                       1.408625  \n",
       "max          25.000000  5.688270e+06                      94.973400  "
      ]
     },
     "execution_count": 7,
     "metadata": {},
     "output_type": "execute_result"
    }
   ],
   "source": [
    "data.describe()"
   ]
  },
  {
   "cell_type": "markdown",
   "id": "1f06fcb2",
   "metadata": {
    "papermill": {
     "duration": 0.040151,
     "end_time": "2021-09-30T10:46:33.056261",
     "exception": false,
     "start_time": "2021-09-30T10:46:33.016110",
     "status": "completed"
    },
    "tags": []
   },
   "source": [
    "## Cleaning Data\n",
    "\n",
    "**Data cleaning** is the process of removing errors and inaccuracies from data to make it ready for analysis In these next steps, we will explore and clean our dataset. \n",
    "\n",
    "\n",
    "Check the dataset for null(or empty) values. How many null values are there and in which columns?"
   ]
  },
  {
   "cell_type": "code",
   "execution_count": 8,
   "id": "9a542209",
   "metadata": {
    "execution": {
     "iopub.execute_input": "2021-09-30T10:46:33.139741Z",
     "iopub.status.busy": "2021-09-30T10:46:33.139096Z",
     "iopub.status.idle": "2021-09-30T10:46:33.146390Z",
     "shell.execute_reply": "2021-09-30T10:46:33.145893Z",
     "shell.execute_reply.started": "2021-09-30T10:34:33.745639Z"
    },
    "papermill": {
     "duration": 0.050226,
     "end_time": "2021-09-30T10:46:33.146527",
     "exception": false,
     "start_time": "2021-09-30T10:46:33.096301",
     "status": "completed"
    },
    "tags": []
   },
   "outputs": [
    {
     "data": {
      "text/html": [
       "<div>\n",
       "<style scoped>\n",
       "    .dataframe tbody tr th:only-of-type {\n",
       "        vertical-align: middle;\n",
       "    }\n",
       "\n",
       "    .dataframe tbody tr th {\n",
       "        vertical-align: top;\n",
       "    }\n",
       "\n",
       "    .dataframe thead th {\n",
       "        text-align: right;\n",
       "    }\n",
       "</style>\n",
       "<table border=\"1\" class=\"dataframe\">\n",
       "  <thead>\n",
       "    <tr style=\"text-align: right;\">\n",
       "      <th></th>\n",
       "      <th>order_id</th>\n",
       "      <th>customer_id</th>\n",
       "      <th>date</th>\n",
       "      <th>nearest_warehouse</th>\n",
       "      <th>shopping_cart</th>\n",
       "      <th>order_price</th>\n",
       "      <th>delivery_charges</th>\n",
       "      <th>customer_lat</th>\n",
       "      <th>customer_long</th>\n",
       "      <th>coupon_discount</th>\n",
       "      <th>order_total</th>\n",
       "      <th>season</th>\n",
       "      <th>is_expedited_delivery</th>\n",
       "      <th>distance_to_nearest_warehouse</th>\n",
       "      <th>latest_customer_review</th>\n",
       "      <th>is_happy_customer</th>\n",
       "    </tr>\n",
       "  </thead>\n",
       "  <tbody>\n",
       "    <tr>\n",
       "      <th>0</th>\n",
       "      <td>False</td>\n",
       "      <td>False</td>\n",
       "      <td>False</td>\n",
       "      <td>False</td>\n",
       "      <td>False</td>\n",
       "      <td>False</td>\n",
       "      <td>False</td>\n",
       "      <td>False</td>\n",
       "      <td>False</td>\n",
       "      <td>False</td>\n",
       "      <td>False</td>\n",
       "      <td>False</td>\n",
       "      <td>False</td>\n",
       "      <td>False</td>\n",
       "      <td>False</td>\n",
       "      <td>False</td>\n",
       "    </tr>\n",
       "    <tr>\n",
       "      <th>1</th>\n",
       "      <td>False</td>\n",
       "      <td>False</td>\n",
       "      <td>False</td>\n",
       "      <td>False</td>\n",
       "      <td>False</td>\n",
       "      <td>False</td>\n",
       "      <td>False</td>\n",
       "      <td>False</td>\n",
       "      <td>False</td>\n",
       "      <td>False</td>\n",
       "      <td>False</td>\n",
       "      <td>False</td>\n",
       "      <td>False</td>\n",
       "      <td>False</td>\n",
       "      <td>False</td>\n",
       "      <td>False</td>\n",
       "    </tr>\n",
       "    <tr>\n",
       "      <th>2</th>\n",
       "      <td>False</td>\n",
       "      <td>False</td>\n",
       "      <td>False</td>\n",
       "      <td>False</td>\n",
       "      <td>False</td>\n",
       "      <td>False</td>\n",
       "      <td>False</td>\n",
       "      <td>False</td>\n",
       "      <td>False</td>\n",
       "      <td>False</td>\n",
       "      <td>False</td>\n",
       "      <td>False</td>\n",
       "      <td>False</td>\n",
       "      <td>False</td>\n",
       "      <td>False</td>\n",
       "      <td>False</td>\n",
       "    </tr>\n",
       "    <tr>\n",
       "      <th>3</th>\n",
       "      <td>False</td>\n",
       "      <td>False</td>\n",
       "      <td>False</td>\n",
       "      <td>False</td>\n",
       "      <td>False</td>\n",
       "      <td>False</td>\n",
       "      <td>False</td>\n",
       "      <td>False</td>\n",
       "      <td>False</td>\n",
       "      <td>False</td>\n",
       "      <td>False</td>\n",
       "      <td>False</td>\n",
       "      <td>False</td>\n",
       "      <td>False</td>\n",
       "      <td>False</td>\n",
       "      <td>False</td>\n",
       "    </tr>\n",
       "    <tr>\n",
       "      <th>4</th>\n",
       "      <td>False</td>\n",
       "      <td>False</td>\n",
       "      <td>False</td>\n",
       "      <td>False</td>\n",
       "      <td>False</td>\n",
       "      <td>False</td>\n",
       "      <td>False</td>\n",
       "      <td>False</td>\n",
       "      <td>False</td>\n",
       "      <td>False</td>\n",
       "      <td>False</td>\n",
       "      <td>False</td>\n",
       "      <td>False</td>\n",
       "      <td>False</td>\n",
       "      <td>False</td>\n",
       "      <td>False</td>\n",
       "    </tr>\n",
       "    <tr>\n",
       "      <th>...</th>\n",
       "      <td>...</td>\n",
       "      <td>...</td>\n",
       "      <td>...</td>\n",
       "      <td>...</td>\n",
       "      <td>...</td>\n",
       "      <td>...</td>\n",
       "      <td>...</td>\n",
       "      <td>...</td>\n",
       "      <td>...</td>\n",
       "      <td>...</td>\n",
       "      <td>...</td>\n",
       "      <td>...</td>\n",
       "      <td>...</td>\n",
       "      <td>...</td>\n",
       "      <td>...</td>\n",
       "      <td>...</td>\n",
       "    </tr>\n",
       "    <tr>\n",
       "      <th>495</th>\n",
       "      <td>False</td>\n",
       "      <td>False</td>\n",
       "      <td>False</td>\n",
       "      <td>False</td>\n",
       "      <td>False</td>\n",
       "      <td>False</td>\n",
       "      <td>False</td>\n",
       "      <td>False</td>\n",
       "      <td>False</td>\n",
       "      <td>False</td>\n",
       "      <td>False</td>\n",
       "      <td>False</td>\n",
       "      <td>False</td>\n",
       "      <td>False</td>\n",
       "      <td>False</td>\n",
       "      <td>False</td>\n",
       "    </tr>\n",
       "    <tr>\n",
       "      <th>496</th>\n",
       "      <td>False</td>\n",
       "      <td>False</td>\n",
       "      <td>False</td>\n",
       "      <td>False</td>\n",
       "      <td>False</td>\n",
       "      <td>False</td>\n",
       "      <td>False</td>\n",
       "      <td>False</td>\n",
       "      <td>False</td>\n",
       "      <td>False</td>\n",
       "      <td>False</td>\n",
       "      <td>False</td>\n",
       "      <td>False</td>\n",
       "      <td>False</td>\n",
       "      <td>False</td>\n",
       "      <td>False</td>\n",
       "    </tr>\n",
       "    <tr>\n",
       "      <th>497</th>\n",
       "      <td>False</td>\n",
       "      <td>False</td>\n",
       "      <td>False</td>\n",
       "      <td>False</td>\n",
       "      <td>False</td>\n",
       "      <td>False</td>\n",
       "      <td>False</td>\n",
       "      <td>False</td>\n",
       "      <td>False</td>\n",
       "      <td>False</td>\n",
       "      <td>False</td>\n",
       "      <td>False</td>\n",
       "      <td>False</td>\n",
       "      <td>False</td>\n",
       "      <td>False</td>\n",
       "      <td>False</td>\n",
       "    </tr>\n",
       "    <tr>\n",
       "      <th>498</th>\n",
       "      <td>False</td>\n",
       "      <td>False</td>\n",
       "      <td>False</td>\n",
       "      <td>False</td>\n",
       "      <td>False</td>\n",
       "      <td>False</td>\n",
       "      <td>False</td>\n",
       "      <td>False</td>\n",
       "      <td>False</td>\n",
       "      <td>False</td>\n",
       "      <td>False</td>\n",
       "      <td>False</td>\n",
       "      <td>False</td>\n",
       "      <td>False</td>\n",
       "      <td>False</td>\n",
       "      <td>False</td>\n",
       "    </tr>\n",
       "    <tr>\n",
       "      <th>499</th>\n",
       "      <td>False</td>\n",
       "      <td>False</td>\n",
       "      <td>False</td>\n",
       "      <td>False</td>\n",
       "      <td>False</td>\n",
       "      <td>False</td>\n",
       "      <td>False</td>\n",
       "      <td>False</td>\n",
       "      <td>False</td>\n",
       "      <td>False</td>\n",
       "      <td>False</td>\n",
       "      <td>False</td>\n",
       "      <td>False</td>\n",
       "      <td>False</td>\n",
       "      <td>False</td>\n",
       "      <td>False</td>\n",
       "    </tr>\n",
       "  </tbody>\n",
       "</table>\n",
       "<p>500 rows × 16 columns</p>\n",
       "</div>"
      ],
      "text/plain": [
       "     order_id  customer_id   date  nearest_warehouse  shopping_cart  \\\n",
       "0       False        False  False              False          False   \n",
       "1       False        False  False              False          False   \n",
       "2       False        False  False              False          False   \n",
       "3       False        False  False              False          False   \n",
       "4       False        False  False              False          False   \n",
       "..        ...          ...    ...                ...            ...   \n",
       "495     False        False  False              False          False   \n",
       "496     False        False  False              False          False   \n",
       "497     False        False  False              False          False   \n",
       "498     False        False  False              False          False   \n",
       "499     False        False  False              False          False   \n",
       "\n",
       "     order_price  delivery_charges  customer_lat  customer_long  \\\n",
       "0          False             False         False          False   \n",
       "1          False             False         False          False   \n",
       "2          False             False         False          False   \n",
       "3          False             False         False          False   \n",
       "4          False             False         False          False   \n",
       "..           ...               ...           ...            ...   \n",
       "495        False             False         False          False   \n",
       "496        False             False         False          False   \n",
       "497        False             False         False          False   \n",
       "498        False             False         False          False   \n",
       "499        False             False         False          False   \n",
       "\n",
       "     coupon_discount  order_total  season  is_expedited_delivery  \\\n",
       "0              False        False   False                  False   \n",
       "1              False        False   False                  False   \n",
       "2              False        False   False                  False   \n",
       "3              False        False   False                  False   \n",
       "4              False        False   False                  False   \n",
       "..               ...          ...     ...                    ...   \n",
       "495            False        False   False                  False   \n",
       "496            False        False   False                  False   \n",
       "497            False        False   False                  False   \n",
       "498            False        False   False                  False   \n",
       "499            False        False   False                  False   \n",
       "\n",
       "     distance_to_nearest_warehouse  latest_customer_review  is_happy_customer  \n",
       "0                            False                   False              False  \n",
       "1                            False                   False              False  \n",
       "2                            False                   False              False  \n",
       "3                            False                   False              False  \n",
       "4                            False                   False              False  \n",
       "..                             ...                     ...                ...  \n",
       "495                          False                   False              False  \n",
       "496                          False                   False              False  \n",
       "497                          False                   False              False  \n",
       "498                          False                   False              False  \n",
       "499                          False                   False              False  \n",
       "\n",
       "[500 rows x 16 columns]"
      ]
     },
     "execution_count": 8,
     "metadata": {},
     "output_type": "execute_result"
    }
   ],
   "source": [
    "data.isnull()"
   ]
  },
  {
   "cell_type": "markdown",
   "id": "d73f856b",
   "metadata": {
    "papermill": {
     "duration": 0.049984,
     "end_time": "2021-09-30T10:46:33.241196",
     "exception": false,
     "start_time": "2021-09-30T10:46:33.191212",
     "status": "completed"
    },
    "tags": []
   },
   "source": [
    "So `season` and `latest_customer_review` have missing values. Fill the drop the rows with missing values. You should have 491 rows remaining."
   ]
  },
  {
   "cell_type": "code",
   "execution_count": 9,
   "id": "d7ac5820",
   "metadata": {},
   "outputs": [
    {
     "data": {
      "text/html": [
       "<div>\n",
       "<style scoped>\n",
       "    .dataframe tbody tr th:only-of-type {\n",
       "        vertical-align: middle;\n",
       "    }\n",
       "\n",
       "    .dataframe tbody tr th {\n",
       "        vertical-align: top;\n",
       "    }\n",
       "\n",
       "    .dataframe thead th {\n",
       "        text-align: right;\n",
       "    }\n",
       "</style>\n",
       "<table border=\"1\" class=\"dataframe\">\n",
       "  <thead>\n",
       "    <tr style=\"text-align: right;\">\n",
       "      <th></th>\n",
       "      <th>order_id</th>\n",
       "      <th>customer_id</th>\n",
       "      <th>date</th>\n",
       "      <th>nearest_warehouse</th>\n",
       "      <th>shopping_cart</th>\n",
       "      <th>order_price</th>\n",
       "      <th>delivery_charges</th>\n",
       "      <th>customer_lat</th>\n",
       "      <th>customer_long</th>\n",
       "      <th>coupon_discount</th>\n",
       "      <th>order_total</th>\n",
       "      <th>season</th>\n",
       "      <th>is_expedited_delivery</th>\n",
       "      <th>distance_to_nearest_warehouse</th>\n",
       "      <th>latest_customer_review</th>\n",
       "      <th>is_happy_customer</th>\n",
       "    </tr>\n",
       "  </thead>\n",
       "  <tbody>\n",
       "    <tr>\n",
       "      <th>0</th>\n",
       "      <td>ORD182494</td>\n",
       "      <td>ID6197211592</td>\n",
       "      <td>2019-06-22</td>\n",
       "      <td>Thompson</td>\n",
       "      <td>[('Lucent 330S', 1), ('Thunder line', 2), ('iS...</td>\n",
       "      <td>12200</td>\n",
       "      <td>79.89</td>\n",
       "      <td>-37.815105</td>\n",
       "      <td>144.932843</td>\n",
       "      <td>10</td>\n",
       "      <td>11059.89</td>\n",
       "      <td>Winter</td>\n",
       "      <td>True</td>\n",
       "      <td>1.2800</td>\n",
       "      <td>perfect phone and trusted seller. phone itself...</td>\n",
       "      <td>True</td>\n",
       "    </tr>\n",
       "    <tr>\n",
       "      <th>1</th>\n",
       "      <td>ORD395518</td>\n",
       "      <td>ID0282825849</td>\n",
       "      <td>2019-12-29</td>\n",
       "      <td>Thompson</td>\n",
       "      <td>[('Thunder line', 1), ('Universe Note', 2)]</td>\n",
       "      <td>9080</td>\n",
       "      <td>62.71</td>\n",
       "      <td>-37.802736</td>\n",
       "      <td>144.951118</td>\n",
       "      <td>0</td>\n",
       "      <td>9142.71</td>\n",
       "      <td>Summer</td>\n",
       "      <td>False</td>\n",
       "      <td>1.1621</td>\n",
       "      <td>it keeps dropping calls the wifi don't work th...</td>\n",
       "      <td>False</td>\n",
       "    </tr>\n",
       "    <tr>\n",
       "      <th>2</th>\n",
       "      <td>ORD494479</td>\n",
       "      <td>ID0579391891</td>\n",
       "      <td>2019-03-02</td>\n",
       "      <td>Nickolson</td>\n",
       "      <td>[('Thunder line', 1), ('pearTV', 2)]</td>\n",
       "      <td>10670</td>\n",
       "      <td>65.87</td>\n",
       "      <td>-37.821302</td>\n",
       "      <td>144.957581</td>\n",
       "      <td>10</td>\n",
       "      <td>9668.87</td>\n",
       "      <td>Autumn</td>\n",
       "      <td>False</td>\n",
       "      <td>1.0949</td>\n",
       "      <td>five stars this is a great cheap phone.</td>\n",
       "      <td>True</td>\n",
       "    </tr>\n",
       "    <tr>\n",
       "      <th>3</th>\n",
       "      <td>ORD019224</td>\n",
       "      <td>ID4544561904</td>\n",
       "      <td>2019-01-12</td>\n",
       "      <td>Nickolson</td>\n",
       "      <td>[('Universe Note', 1), ('Alcon 10', 2), ('Oliv...</td>\n",
       "      <td>24800</td>\n",
       "      <td>57.61</td>\n",
       "      <td>-37.811416</td>\n",
       "      <td>144.973073</td>\n",
       "      <td>15</td>\n",
       "      <td>21137.61</td>\n",
       "      <td>Summer</td>\n",
       "      <td>False</td>\n",
       "      <td>0.8571</td>\n",
       "      <td>charger did not fit the charger didn't fit.</td>\n",
       "      <td>False</td>\n",
       "    </tr>\n",
       "    <tr>\n",
       "      <th>4</th>\n",
       "      <td>ORD104032</td>\n",
       "      <td>ID6231506320</td>\n",
       "      <td>2019-11-28</td>\n",
       "      <td>Nickolson</td>\n",
       "      <td>[('Universe Note', 1), ('Olivia x460', 1), ('i...</td>\n",
       "      <td>9145</td>\n",
       "      <td>75.54</td>\n",
       "      <td>37.823859</td>\n",
       "      <td>144.969892</td>\n",
       "      <td>25</td>\n",
       "      <td>6934.29</td>\n",
       "      <td>Spring</td>\n",
       "      <td>False</td>\n",
       "      <td>0.5867</td>\n",
       "      <td>four stars good</td>\n",
       "      <td>True</td>\n",
       "    </tr>\n",
       "    <tr>\n",
       "      <th>...</th>\n",
       "      <td>...</td>\n",
       "      <td>...</td>\n",
       "      <td>...</td>\n",
       "      <td>...</td>\n",
       "      <td>...</td>\n",
       "      <td>...</td>\n",
       "      <td>...</td>\n",
       "      <td>...</td>\n",
       "      <td>...</td>\n",
       "      <td>...</td>\n",
       "      <td>...</td>\n",
       "      <td>...</td>\n",
       "      <td>...</td>\n",
       "      <td>...</td>\n",
       "      <td>...</td>\n",
       "      <td>...</td>\n",
       "    </tr>\n",
       "    <tr>\n",
       "      <th>495</th>\n",
       "      <td>ORD475510</td>\n",
       "      <td>ID0247417082</td>\n",
       "      <td>2019-08-07</td>\n",
       "      <td>Nickolson</td>\n",
       "      <td>[('Alcon 10', 2), ('iAssist Line', 2)]</td>\n",
       "      <td>386776</td>\n",
       "      <td>59.70</td>\n",
       "      <td>-37.817662</td>\n",
       "      <td>144.970405</td>\n",
       "      <td>10</td>\n",
       "      <td>20174.70</td>\n",
       "      <td>Winter</td>\n",
       "      <td>True</td>\n",
       "      <td>0.1282</td>\n",
       "      <td>i bought this phone to send to my sister in .....</td>\n",
       "      <td>False</td>\n",
       "    </tr>\n",
       "    <tr>\n",
       "      <th>496</th>\n",
       "      <td>ORD086060</td>\n",
       "      <td>ID0130015098</td>\n",
       "      <td>2019-03-28</td>\n",
       "      <td>Nickolson</td>\n",
       "      <td>[('pearTV', 2), ('Candle Inferno', 2), ('Toshi...</td>\n",
       "      <td>22120</td>\n",
       "      <td>62.29</td>\n",
       "      <td>-37.815469</td>\n",
       "      <td>144.968083</td>\n",
       "      <td>0</td>\n",
       "      <td>22182.29</td>\n",
       "      <td>Autumn</td>\n",
       "      <td>True</td>\n",
       "      <td>0.3711</td>\n",
       "      <td>one star it was the wrong phone</td>\n",
       "      <td>False</td>\n",
       "    </tr>\n",
       "    <tr>\n",
       "      <th>497</th>\n",
       "      <td>ORD079320</td>\n",
       "      <td>ID2707985442</td>\n",
       "      <td>2019-10-16</td>\n",
       "      <td>Nickolson</td>\n",
       "      <td>[('pearTV', 1), ('Alcon 10', 1), ('Lucent 330S...</td>\n",
       "      <td>16490</td>\n",
       "      <td>106.98</td>\n",
       "      <td>-37.805979</td>\n",
       "      <td>144.966101</td>\n",
       "      <td>0</td>\n",
       "      <td>16596.98</td>\n",
       "      <td>Spring</td>\n",
       "      <td>True</td>\n",
       "      <td>1.4368</td>\n",
       "      <td>love this phone! has many great features!</td>\n",
       "      <td>True</td>\n",
       "    </tr>\n",
       "    <tr>\n",
       "      <th>498</th>\n",
       "      <td>ORD026546</td>\n",
       "      <td>ID0060088412</td>\n",
       "      <td>2019-05-19</td>\n",
       "      <td>Nickolson</td>\n",
       "      <td>[('iStream', 1), ('Candle Inferno', 1), ('iAss...</td>\n",
       "      <td>5030</td>\n",
       "      <td>79.89</td>\n",
       "      <td>37.820071</td>\n",
       "      <td>144.984435</td>\n",
       "      <td>10</td>\n",
       "      <td>4606.89</td>\n",
       "      <td>Autumn</td>\n",
       "      <td>True</td>\n",
       "      <td>1.3191</td>\n",
       "      <td>spoiled son's birthday present son wanted one ...</td>\n",
       "      <td>True</td>\n",
       "    </tr>\n",
       "    <tr>\n",
       "      <th>499</th>\n",
       "      <td>ORD085447</td>\n",
       "      <td>ID5257193650</td>\n",
       "      <td>2019-05-25</td>\n",
       "      <td>Bakers</td>\n",
       "      <td>[('iStream', 1), ('Toshika 750', 1), ('Alcon 1...</td>\n",
       "      <td>22370</td>\n",
       "      <td>64.62</td>\n",
       "      <td>-37.812231</td>\n",
       "      <td>144.988679</td>\n",
       "      <td>15</td>\n",
       "      <td>19079.12</td>\n",
       "      <td>Autumn</td>\n",
       "      <td>True</td>\n",
       "      <td>0.6277</td>\n",
       "      <td>two stars the phone is way smaller then it loo...</td>\n",
       "      <td>False</td>\n",
       "    </tr>\n",
       "  </tbody>\n",
       "</table>\n",
       "<p>491 rows × 16 columns</p>\n",
       "</div>"
      ],
      "text/plain": [
       "      order_id   customer_id        date nearest_warehouse  \\\n",
       "0    ORD182494  ID6197211592  2019-06-22          Thompson   \n",
       "1    ORD395518  ID0282825849  2019-12-29          Thompson   \n",
       "2    ORD494479  ID0579391891  2019-03-02         Nickolson   \n",
       "3    ORD019224  ID4544561904  2019-01-12         Nickolson   \n",
       "4    ORD104032  ID6231506320  2019-11-28         Nickolson   \n",
       "..         ...           ...         ...               ...   \n",
       "495  ORD475510  ID0247417082  2019-08-07         Nickolson   \n",
       "496  ORD086060  ID0130015098  2019-03-28         Nickolson   \n",
       "497  ORD079320  ID2707985442  2019-10-16         Nickolson   \n",
       "498  ORD026546  ID0060088412  2019-05-19         Nickolson   \n",
       "499  ORD085447  ID5257193650  2019-05-25            Bakers   \n",
       "\n",
       "                                         shopping_cart  order_price  \\\n",
       "0    [('Lucent 330S', 1), ('Thunder line', 2), ('iS...        12200   \n",
       "1          [('Thunder line', 1), ('Universe Note', 2)]         9080   \n",
       "2                 [('Thunder line', 1), ('pearTV', 2)]        10670   \n",
       "3    [('Universe Note', 1), ('Alcon 10', 2), ('Oliv...        24800   \n",
       "4    [('Universe Note', 1), ('Olivia x460', 1), ('i...         9145   \n",
       "..                                                 ...          ...   \n",
       "495             [('Alcon 10', 2), ('iAssist Line', 2)]       386776   \n",
       "496  [('pearTV', 2), ('Candle Inferno', 2), ('Toshi...        22120   \n",
       "497  [('pearTV', 1), ('Alcon 10', 1), ('Lucent 330S...        16490   \n",
       "498  [('iStream', 1), ('Candle Inferno', 1), ('iAss...         5030   \n",
       "499  [('iStream', 1), ('Toshika 750', 1), ('Alcon 1...        22370   \n",
       "\n",
       "     delivery_charges  customer_lat  customer_long  coupon_discount  \\\n",
       "0               79.89    -37.815105     144.932843               10   \n",
       "1               62.71    -37.802736     144.951118                0   \n",
       "2               65.87    -37.821302     144.957581               10   \n",
       "3               57.61    -37.811416     144.973073               15   \n",
       "4               75.54     37.823859     144.969892               25   \n",
       "..                ...           ...            ...              ...   \n",
       "495             59.70    -37.817662     144.970405               10   \n",
       "496             62.29    -37.815469     144.968083                0   \n",
       "497            106.98    -37.805979     144.966101                0   \n",
       "498             79.89     37.820071     144.984435               10   \n",
       "499             64.62    -37.812231     144.988679               15   \n",
       "\n",
       "     order_total  season  is_expedited_delivery  \\\n",
       "0       11059.89  Winter                   True   \n",
       "1        9142.71  Summer                  False   \n",
       "2        9668.87  Autumn                  False   \n",
       "3       21137.61  Summer                  False   \n",
       "4        6934.29  Spring                  False   \n",
       "..           ...     ...                    ...   \n",
       "495     20174.70  Winter                   True   \n",
       "496     22182.29  Autumn                   True   \n",
       "497     16596.98  Spring                   True   \n",
       "498      4606.89  Autumn                   True   \n",
       "499     19079.12  Autumn                   True   \n",
       "\n",
       "     distance_to_nearest_warehouse  \\\n",
       "0                           1.2800   \n",
       "1                           1.1621   \n",
       "2                           1.0949   \n",
       "3                           0.8571   \n",
       "4                           0.5867   \n",
       "..                             ...   \n",
       "495                         0.1282   \n",
       "496                         0.3711   \n",
       "497                         1.4368   \n",
       "498                         1.3191   \n",
       "499                         0.6277   \n",
       "\n",
       "                                latest_customer_review  is_happy_customer  \n",
       "0    perfect phone and trusted seller. phone itself...               True  \n",
       "1    it keeps dropping calls the wifi don't work th...              False  \n",
       "2              five stars this is a great cheap phone.               True  \n",
       "3          charger did not fit the charger didn't fit.              False  \n",
       "4                                      four stars good               True  \n",
       "..                                                 ...                ...  \n",
       "495  i bought this phone to send to my sister in .....              False  \n",
       "496                    one star it was the wrong phone              False  \n",
       "497          love this phone! has many great features!               True  \n",
       "498  spoiled son's birthday present son wanted one ...               True  \n",
       "499  two stars the phone is way smaller then it loo...              False  \n",
       "\n",
       "[491 rows x 16 columns]"
      ]
     },
     "execution_count": 9,
     "metadata": {},
     "output_type": "execute_result"
    }
   ],
   "source": [
    "data.dropna()"
   ]
  },
  {
   "cell_type": "markdown",
   "id": "dbdf18b3",
   "metadata": {
    "papermill": {
     "duration": 0.038259,
     "end_time": "2021-09-30T10:46:33.328947",
     "exception": false,
     "start_time": "2021-09-30T10:46:33.290688",
     "status": "completed"
    },
    "tags": []
   },
   "source": [
    "Now let's take a look at the data types of each column and see if they make sense."
   ]
  },
  {
   "cell_type": "code",
   "execution_count": 10,
   "id": "19482862",
   "metadata": {
    "execution": {
     "iopub.execute_input": "2021-09-30T10:46:33.410130Z",
     "iopub.status.busy": "2021-09-30T10:46:33.409596Z",
     "iopub.status.idle": "2021-09-30T10:46:33.415806Z",
     "shell.execute_reply": "2021-09-30T10:46:33.416180Z",
     "shell.execute_reply.started": "2021-07-20T12:04:08.792931Z"
    },
    "papermill": {
     "duration": 0.048126,
     "end_time": "2021-09-30T10:46:33.416350",
     "exception": false,
     "start_time": "2021-09-30T10:46:33.368224",
     "status": "completed"
    },
    "tags": []
   },
   "outputs": [
    {
     "data": {
      "text/plain": [
       "order_id                          object\n",
       "customer_id                       object\n",
       "date                              object\n",
       "nearest_warehouse                 object\n",
       "shopping_cart                     object\n",
       "order_price                        int64\n",
       "delivery_charges                 float64\n",
       "customer_lat                     float64\n",
       "customer_long                    float64\n",
       "coupon_discount                    int64\n",
       "order_total                      float64\n",
       "season                            object\n",
       "is_expedited_delivery               bool\n",
       "distance_to_nearest_warehouse    float64\n",
       "latest_customer_review            object\n",
       "is_happy_customer                   bool\n",
       "dtype: object"
      ]
     },
     "execution_count": 10,
     "metadata": {},
     "output_type": "execute_result"
    }
   ],
   "source": [
    "data.dtypes"
   ]
  },
  {
   "cell_type": "markdown",
   "id": "bc2043c5",
   "metadata": {
    "papermill": {
     "duration": 0.038985,
     "end_time": "2021-09-30T10:46:33.494757",
     "exception": false,
     "start_time": "2021-09-30T10:46:33.455772",
     "status": "completed"
    },
    "tags": []
   },
   "source": [
    "Data type of date column is object instead of datetime. So fix this problem and check the datatypes again."
   ]
  },
  {
   "cell_type": "code",
   "execution_count": 13,
   "id": "a23b2234",
   "metadata": {
    "execution": {
     "iopub.execute_input": "2021-09-30T10:46:33.576835Z",
     "iopub.status.busy": "2021-09-30T10:46:33.576207Z",
     "iopub.status.idle": "2021-09-30T10:46:33.583079Z",
     "shell.execute_reply": "2021-09-30T10:46:33.583565Z",
     "shell.execute_reply.started": "2021-07-20T12:04:08.804812Z"
    },
    "papermill": {
     "duration": 0.049543,
     "end_time": "2021-09-30T10:46:33.583729",
     "exception": false,
     "start_time": "2021-09-30T10:46:33.534186",
     "status": "completed"
    },
    "tags": []
   },
   "outputs": [
    {
     "data": {
      "text/plain": [
       "0     2019-06-22\n",
       "1     2019-12-29\n",
       "2     2019-03-02\n",
       "3     2019-01-12\n",
       "4     2019-11-28\n",
       "         ...    \n",
       "495   2019-08-07\n",
       "496   2019-03-28\n",
       "497   2019-10-16\n",
       "498   2019-05-19\n",
       "499   2019-05-25\n",
       "Name: date, Length: 500, dtype: datetime64[ns]"
      ]
     },
     "execution_count": 13,
     "metadata": {},
     "output_type": "execute_result"
    }
   ],
   "source": [
    "pd.to_datetime(data['date'])"
   ]
  },
  {
   "cell_type": "code",
   "execution_count": 14,
   "id": "89116c27",
   "metadata": {
    "execution": {
     "iopub.execute_input": "2021-09-30T10:46:33.753680Z",
     "iopub.status.busy": "2021-09-30T10:46:33.753058Z",
     "iopub.status.idle": "2021-09-30T10:46:33.759278Z",
     "shell.execute_reply": "2021-09-30T10:46:33.759946Z",
     "shell.execute_reply.started": "2021-07-20T12:04:08.831341Z"
    },
    "papermill": {
     "duration": 0.049031,
     "end_time": "2021-09-30T10:46:33.760124",
     "exception": false,
     "start_time": "2021-09-30T10:46:33.711093",
     "status": "completed"
    },
    "tags": []
   },
   "outputs": [
    {
     "data": {
      "text/plain": [
       "order_id                          object\n",
       "customer_id                       object\n",
       "date                              object\n",
       "nearest_warehouse                 object\n",
       "shopping_cart                     object\n",
       "order_price                        int64\n",
       "delivery_charges                 float64\n",
       "customer_lat                     float64\n",
       "customer_long                    float64\n",
       "coupon_discount                    int64\n",
       "order_total                      float64\n",
       "season                            object\n",
       "is_expedited_delivery               bool\n",
       "distance_to_nearest_warehouse    float64\n",
       "latest_customer_review            object\n",
       "is_happy_customer                   bool\n",
       "dtype: object"
      ]
     },
     "execution_count": 14,
     "metadata": {},
     "output_type": "execute_result"
    }
   ],
   "source": [
    "data.dtypes"
   ]
  },
  {
   "cell_type": "markdown",
   "id": "499d70bc",
   "metadata": {
    "papermill": {
     "duration": 0.039925,
     "end_time": "2021-09-30T10:46:33.920379",
     "exception": false,
     "start_time": "2021-09-30T10:46:33.880454",
     "status": "completed"
    },
    "tags": []
   },
   "source": [
    "Now let's check for errors. \n",
    "\n",
    "First, let's make sure that our data in `order_id` is unique and we don't have any duplicates. "
   ]
  },
  {
   "cell_type": "code",
   "execution_count": 15,
   "id": "0a6b97f2",
   "metadata": {
    "execution": {
     "iopub.execute_input": "2021-09-30T10:46:34.003748Z",
     "iopub.status.busy": "2021-09-30T10:46:34.002782Z",
     "iopub.status.idle": "2021-09-30T10:46:34.011062Z",
     "shell.execute_reply": "2021-09-30T10:46:34.010545Z",
     "shell.execute_reply.started": "2021-07-20T12:04:08.845402Z"
    },
    "papermill": {
     "duration": 0.05077,
     "end_time": "2021-09-30T10:46:34.011201",
     "exception": false,
     "start_time": "2021-09-30T10:46:33.960431",
     "status": "completed"
    },
    "tags": []
   },
   "outputs": [
    {
     "data": {
      "text/plain": [
       "True"
      ]
     },
     "execution_count": 15,
     "metadata": {},
     "output_type": "execute_result"
    }
   ],
   "source": [
    "data['order_id'].is_unique"
   ]
  },
  {
   "cell_type": "markdown",
   "id": "b4e7f0cc",
   "metadata": {
    "papermill": {
     "duration": 0.040628,
     "end_time": "2021-09-30T10:46:34.175325",
     "exception": false,
     "start_time": "2021-09-30T10:46:34.134697",
     "status": "completed"
    },
    "tags": []
   },
   "source": [
    "Now, let's check what the unique values of warehouse are."
   ]
  },
  {
   "cell_type": "code",
   "execution_count": 16,
   "id": "48f96ade",
   "metadata": {
    "execution": {
     "iopub.execute_input": "2021-09-30T10:46:34.263624Z",
     "iopub.status.busy": "2021-09-30T10:46:34.262626Z",
     "iopub.status.idle": "2021-09-30T10:46:34.267062Z",
     "shell.execute_reply": "2021-09-30T10:46:34.266456Z",
     "shell.execute_reply.started": "2021-07-20T12:04:08.856406Z"
    },
    "papermill": {
     "duration": 0.051065,
     "end_time": "2021-09-30T10:46:34.267209",
     "exception": false,
     "start_time": "2021-09-30T10:46:34.216144",
     "status": "completed"
    },
    "tags": []
   },
   "outputs": [
    {
     "data": {
      "text/plain": [
       "array(['ORD182494', 'ORD395518', 'ORD494479', 'ORD019224', 'ORD104032',\n",
       "       'ORD146760', 'ORD337984', 'ORD072312', 'ORD377837', 'ORD462194',\n",
       "       'ORD034800', 'ORD361636', 'ORD124395', 'ORD255642', 'ORD496722',\n",
       "       'ORD449130', 'ORD036056', 'ORD428910', 'ORD007249', 'ORD232940',\n",
       "       'ORD178590', 'ORD157688', 'ORD314979', 'ORD339672', 'ORD239838',\n",
       "       'ORD340641', 'ORD330543', 'ORD052585', 'ORD035930', 'ORD406814',\n",
       "       'ORD069995', 'ORD383725', 'ORD026682', 'ORD349525', 'ORD215329',\n",
       "       'ORD387808', 'ORD154758', 'ORD157353', 'ORD430536', 'ORD453282',\n",
       "       'ORD466433', 'ORD481832', 'ORD344472', 'ORD473815', 'ORD098336',\n",
       "       'ORD164452', 'ORD029585', 'ORD212818', 'ORD468449', 'ORD235371',\n",
       "       'ORD403400', 'ORD212584', 'ORD439821', 'ORD288212', 'ORD308765',\n",
       "       'ORD442452', 'ORD370065', 'ORD386513', 'ORD405547', 'ORD476072',\n",
       "       'ORD261924', 'ORD028755', 'ORD363569', 'ORD239056', 'ORD103199',\n",
       "       'ORD288725', 'ORD005232', 'ORD158007', 'ORD345282', 'ORD355878',\n",
       "       'ORD122655', 'ORD371930', 'ORD230298', 'ORD242226', 'ORD228044',\n",
       "       'ORD070810', 'ORD063307', 'ORD016841', 'ORD347594', 'ORD457758',\n",
       "       'ORD300049', 'ORD016018', 'ORD137495', 'ORD319178', 'ORD076632',\n",
       "       'ORD138302', 'ORD208711', 'ORD168543', 'ORD151330', 'ORD300924',\n",
       "       'ORD141734', 'ORD202296', 'ORD235478', 'ORD051670', 'ORD456259',\n",
       "       'ORD354413', 'ORD182183', 'ORD397354', 'ORD324141', 'ORD226452',\n",
       "       'ORD043067', 'ORD228614', 'ORD066333', 'ORD452012', 'ORD222362',\n",
       "       'ORD058255', 'ORD315179', 'ORD170004', 'ORD075922', 'ORD189717',\n",
       "       'ORD303289', 'ORD016275', 'ORD233901', 'ORD357914', 'ORD293148',\n",
       "       'ORD202010', 'ORD065661', 'ORD226730', 'ORD322017', 'ORD452642',\n",
       "       'ORD059126', 'ORD417453', 'ORD426744', 'ORD365314', 'ORD239025',\n",
       "       'ORD381266', 'ORD337877', 'ORD275535', 'ORD059963', 'ORD188735',\n",
       "       'ORD226150', 'ORD075963', 'ORD473288', 'ORD439316', 'ORD230243',\n",
       "       'ORD369692', 'ORD197167', 'ORD322420', 'ORD048045', 'ORD234302',\n",
       "       'ORD032894', 'ORD481651', 'ORD074888', 'ORD208080', 'ORD498207',\n",
       "       'ORD134511', 'ORD359121', 'ORD431050', 'ORD283406', 'ORD256605',\n",
       "       'ORD449901', 'ORD173202', 'ORD480424', 'ORD047163', 'ORD022239',\n",
       "       'ORD265921', 'ORD127141', 'ORD067226', 'ORD064801', 'ORD294462',\n",
       "       'ORD345202', 'ORD044505', 'ORD129378', 'ORD130410', 'ORD457767',\n",
       "       'ORD153030', 'ORD234851', 'ORD179719', 'ORD317333', 'ORD190038',\n",
       "       'ORD347364', 'ORD210087', 'ORD178601', 'ORD036597', 'ORD252775',\n",
       "       'ORD316807', 'ORD354341', 'ORD328132', 'ORD215775', 'ORD372277',\n",
       "       'ORD226807', 'ORD498590', 'ORD008127', 'ORD193150', 'ORD352593',\n",
       "       'ORD267241', 'ORD497096', 'ORD152093', 'ORD246022', 'ORD288323',\n",
       "       'ORD234525', 'ORD414145', 'ORD072308', 'ORD053558', 'ORD394848',\n",
       "       'ORD023715', 'ORD061084', 'ORD460883', 'ORD103075', 'ORD420866',\n",
       "       'ORD057521', 'ORD365002', 'ORD428471', 'ORD489366', 'ORD451441',\n",
       "       'ORD474833', 'ORD136412', 'ORD333358', 'ORD401278', 'ORD282679',\n",
       "       'ORD167693', 'ORD412934', 'ORD301674', 'ORD407975', 'ORD202308',\n",
       "       'ORD086903', 'ORD232026', 'ORD266257', 'ORD312372', 'ORD166670',\n",
       "       'ORD225422', 'ORD121712', 'ORD267220', 'ORD058244', 'ORD027780',\n",
       "       'ORD271609', 'ORD113908', 'ORD080574', 'ORD374107', 'ORD042766',\n",
       "       'ORD262488', 'ORD465360', 'ORD286712', 'ORD049427', 'ORD184511',\n",
       "       'ORD077818', 'ORD387574', 'ORD420200', 'ORD450897', 'ORD468473',\n",
       "       'ORD321270', 'ORD267040', 'ORD493666', 'ORD361759', 'ORD215616',\n",
       "       'ORD074913', 'ORD235383', 'ORD024972', 'ORD249031', 'ORD113085',\n",
       "       'ORD073993', 'ORD025094', 'ORD112722', 'ORD409115', 'ORD328848',\n",
       "       'ORD017212', 'ORD128538', 'ORD494241', 'ORD328292', 'ORD151721',\n",
       "       'ORD205507', 'ORD244594', 'ORD094945', 'ORD028604', 'ORD374251',\n",
       "       'ORD289920', 'ORD177535', 'ORD139508', 'ORD004602', 'ORD004361',\n",
       "       'ORD005286', 'ORD499540', 'ORD366469', 'ORD037011', 'ORD383461',\n",
       "       'ORD414419', 'ORD063814', 'ORD131352', 'ORD436478', 'ORD434570',\n",
       "       'ORD310531', 'ORD341013', 'ORD236167', 'ORD315504', 'ORD088885',\n",
       "       'ORD175085', 'ORD004848', 'ORD131664', 'ORD192391', 'ORD339649',\n",
       "       'ORD321832', 'ORD236948', 'ORD253502', 'ORD176936', 'ORD086444',\n",
       "       'ORD413882', 'ORD010057', 'ORD010677', 'ORD021461', 'ORD379975',\n",
       "       'ORD336893', 'ORD089655', 'ORD277358', 'ORD060602', 'ORD106414',\n",
       "       'ORD039111', 'ORD209997', 'ORD346356', 'ORD165713', 'ORD256016',\n",
       "       'ORD028403', 'ORD276878', 'ORD001041', 'ORD496181', 'ORD158346',\n",
       "       'ORD241414', 'ORD404813', 'ORD291961', 'ORD420807', 'ORD190200',\n",
       "       'ORD197918', 'ORD124413', 'ORD334485', 'ORD320916', 'ORD010913',\n",
       "       'ORD051005', 'ORD279402', 'ORD049313', 'ORD463025', 'ORD214700',\n",
       "       'ORD497160', 'ORD170576', 'ORD469852', 'ORD177002', 'ORD058920',\n",
       "       'ORD116440', 'ORD193841', 'ORD021509', 'ORD108392', 'ORD127881',\n",
       "       'ORD347062', 'ORD359903', 'ORD250175', 'ORD113670', 'ORD103709',\n",
       "       'ORD343782', 'ORD455246', 'ORD307978', 'ORD026756', 'ORD021786',\n",
       "       'ORD407964', 'ORD381638', 'ORD497037', 'ORD184906', 'ORD453377',\n",
       "       'ORD068296', 'ORD463964', 'ORD352051', 'ORD285119', 'ORD259052',\n",
       "       'ORD401780', 'ORD296636', 'ORD349135', 'ORD130025', 'ORD104003',\n",
       "       'ORD053567', 'ORD464981', 'ORD191503', 'ORD290674', 'ORD341686',\n",
       "       'ORD481148', 'ORD393183', 'ORD127153', 'ORD139543', 'ORD068250',\n",
       "       'ORD421797', 'ORD109384', 'ORD118137', 'ORD428011', 'ORD408988',\n",
       "       'ORD241112', 'ORD176554', 'ORD051673', 'ORD024391', 'ORD077302',\n",
       "       'ORD015029', 'ORD360393', 'ORD363515', 'ORD129529', 'ORD110606',\n",
       "       'ORD242864', 'ORD229308', 'ORD424374', 'ORD056609', 'ORD420507',\n",
       "       'ORD442067', 'ORD165627', 'ORD057456', 'ORD244567', 'ORD161245',\n",
       "       'ORD332011', 'ORD190264', 'ORD490527', 'ORD381949', 'ORD216875',\n",
       "       'ORD177106', 'ORD092009', 'ORD239747', 'ORD333990', 'ORD016609',\n",
       "       'ORD122150', 'ORD492107', 'ORD389541', 'ORD265905', 'ORD371242',\n",
       "       'ORD065457', 'ORD270933', 'ORD080001', 'ORD083728', 'ORD262556',\n",
       "       'ORD469769', 'ORD014742', 'ORD200084', 'ORD243905', 'ORD089966',\n",
       "       'ORD077215', 'ORD057375', 'ORD139834', 'ORD199125', 'ORD280009',\n",
       "       'ORD039664', 'ORD144770', 'ORD314525', 'ORD355763', 'ORD206559',\n",
       "       'ORD191543', 'ORD204657', 'ORD032042', 'ORD197091', 'ORD495312',\n",
       "       'ORD353238', 'ORD355844', 'ORD150293', 'ORD027740', 'ORD163916',\n",
       "       'ORD317652', 'ORD198111', 'ORD491234', 'ORD431829', 'ORD386882',\n",
       "       'ORD376088', 'ORD184184', 'ORD442197', 'ORD015196', 'ORD326400',\n",
       "       'ORD249776', 'ORD273727', 'ORD382455', 'ORD007904', 'ORD436067',\n",
       "       'ORD115766', 'ORD153759', 'ORD124286', 'ORD337311', 'ORD071953',\n",
       "       'ORD330289', 'ORD387878', 'ORD144784', 'ORD330641', 'ORD327155',\n",
       "       'ORD020395', 'ORD454128', 'ORD453668', 'ORD175025', 'ORD449772',\n",
       "       'ORD374508', 'ORD109308', 'ORD409233', 'ORD078283', 'ORD043450',\n",
       "       'ORD194707', 'ORD050839', 'ORD361982', 'ORD033121', 'ORD030513',\n",
       "       'ORD213192', 'ORD360739', 'ORD234473', 'ORD118905', 'ORD161955',\n",
       "       'ORD182549', 'ORD435271', 'ORD082002', 'ORD034351', 'ORD379700',\n",
       "       'ORD475510', 'ORD086060', 'ORD079320', 'ORD026546', 'ORD085447'],\n",
       "      dtype=object)"
      ]
     },
     "execution_count": 16,
     "metadata": {},
     "output_type": "execute_result"
    }
   ],
   "source": [
    "data['order_id'].unique()"
   ]
  },
  {
   "cell_type": "markdown",
   "id": "6c613b5b",
   "metadata": {
    "papermill": {
     "duration": 0.04021,
     "end_time": "2021-09-30T10:46:34.348333",
     "exception": false,
     "start_time": "2021-09-30T10:46:34.308123",
     "status": "completed"
    },
    "tags": []
   },
   "source": [
    "Thompson and thompson should be the same, but here they are being counted as different warehouse. Similarly Nickolson and nickolson are same. Change all of the lowercase names to Title case. "
   ]
  },
  {
   "cell_type": "code",
   "execution_count": 17,
   "id": "4d5e1229",
   "metadata": {},
   "outputs": [
    {
     "data": {
      "text/plain": [
       "0       Thompson\n",
       "1       Thompson\n",
       "2      Nickolson\n",
       "3      Nickolson\n",
       "4      Nickolson\n",
       "         ...    \n",
       "495    Nickolson\n",
       "496    Nickolson\n",
       "497    Nickolson\n",
       "498    Nickolson\n",
       "499       Bakers\n",
       "Name: nearest_warehouse, Length: 500, dtype: object"
      ]
     },
     "execution_count": 17,
     "metadata": {},
     "output_type": "execute_result"
    }
   ],
   "source": [
    "data['nearest_warehouse'].str.title()"
   ]
  },
  {
   "cell_type": "markdown",
   "id": "5f23c91e",
   "metadata": {
    "papermill": {
     "duration": 0.041069,
     "end_time": "2021-09-30T10:46:34.773298",
     "exception": false,
     "start_time": "2021-09-30T10:46:34.732229",
     "status": "completed"
    },
    "tags": []
   },
   "source": [
    "Check the quantities of each warehouse."
   ]
  },
  {
   "cell_type": "code",
   "execution_count": 29,
   "id": "a9d3c963",
   "metadata": {
    "execution": {
     "iopub.execute_input": "2021-09-30T10:46:34.864472Z",
     "iopub.status.busy": "2021-09-30T10:46:34.863833Z",
     "iopub.status.idle": "2021-09-30T10:46:34.866499Z",
     "shell.execute_reply": "2021-09-30T10:46:34.866963Z",
     "shell.execute_reply.started": "2021-07-20T12:04:08.889173Z"
    },
    "papermill": {
     "duration": 0.05257,
     "end_time": "2021-09-30T10:46:34.867124",
     "exception": false,
     "start_time": "2021-09-30T10:46:34.814554",
     "status": "completed"
    },
    "tags": []
   },
   "outputs": [
    {
     "data": {
      "text/plain": [
       "order_id\n",
       "ORD182494    1\n",
       "ORD214700    1\n",
       "ORD250175    1\n",
       "ORD359903    1\n",
       "ORD347062    1\n",
       "            ..\n",
       "ORD044505    1\n",
       "ORD345202    1\n",
       "ORD294462    1\n",
       "ORD064801    1\n",
       "ORD085447    1\n",
       "Name: count, Length: 500, dtype: int64"
      ]
     },
     "execution_count": 29,
     "metadata": {},
     "output_type": "execute_result"
    }
   ],
   "source": [
    "data['order_id'].value_counts()"
   ]
  },
  {
   "cell_type": "markdown",
   "id": "f68e5e54",
   "metadata": {},
   "source": [
    "The value counts should be Thompson: 197, Nickolson: 184, Bakers: 119"
   ]
  },
  {
   "cell_type": "markdown",
   "id": "1d8679b4",
   "metadata": {},
   "source": [
    "Check the counts and unique values of `is_happy_customer`."
   ]
  },
  {
   "cell_type": "code",
   "execution_count": 26,
   "id": "741621ad",
   "metadata": {
    "execution": {
     "iopub.execute_input": "2021-09-30T10:46:39.468287Z",
     "iopub.status.busy": "2021-09-30T10:46:39.467342Z",
     "iopub.status.idle": "2021-09-30T10:46:39.471157Z",
     "shell.execute_reply": "2021-09-30T10:46:39.471612Z",
     "shell.execute_reply.started": "2021-07-20T12:04:09.600082Z"
    },
    "papermill": {
     "duration": 0.059663,
     "end_time": "2021-09-30T10:46:39.471795",
     "exception": false,
     "start_time": "2021-09-30T10:46:39.412132",
     "status": "completed"
    },
    "tags": []
   },
   "outputs": [
    {
     "data": {
      "text/plain": [
       "is_happy_customer\n",
       "True     359\n",
       "False    141\n",
       "Name: count, dtype: int64"
      ]
     },
     "execution_count": 26,
     "metadata": {},
     "output_type": "execute_result"
    }
   ],
   "source": [
    "data['is_happy_customer'].value_counts()"
   ]
  },
  {
   "cell_type": "markdown",
   "id": "59053f19",
   "metadata": {
    "papermill": {
     "duration": 0.043168,
     "end_time": "2021-09-30T10:46:36.149055",
     "exception": false,
     "start_time": "2021-09-30T10:46:36.105887",
     "status": "completed"
    },
    "tags": []
   },
   "source": [
    "Create a table with `order_price`, `delivery_charges`, `coupon_discount`, and `order_total`. Look at the first 10 rows. Is the `order_total` column correct?"
   ]
  },
  {
   "cell_type": "code",
   "execution_count": 27,
   "id": "9cda2da2",
   "metadata": {
    "execution": {
     "iopub.execute_input": "2021-09-30T10:46:36.240445Z",
     "iopub.status.busy": "2021-09-30T10:46:36.239761Z",
     "iopub.status.idle": "2021-09-30T10:46:36.252176Z",
     "shell.execute_reply": "2021-09-30T10:46:36.252675Z",
     "shell.execute_reply.started": "2021-07-20T12:04:09.310222Z"
    },
    "papermill": {
     "duration": 0.059633,
     "end_time": "2021-09-30T10:46:36.252846",
     "exception": false,
     "start_time": "2021-09-30T10:46:36.193213",
     "status": "completed"
    },
    "tags": []
   },
   "outputs": [
    {
     "data": {
      "text/html": [
       "<div>\n",
       "<style scoped>\n",
       "    .dataframe tbody tr th:only-of-type {\n",
       "        vertical-align: middle;\n",
       "    }\n",
       "\n",
       "    .dataframe tbody tr th {\n",
       "        vertical-align: top;\n",
       "    }\n",
       "\n",
       "    .dataframe thead th {\n",
       "        text-align: right;\n",
       "    }\n",
       "</style>\n",
       "<table border=\"1\" class=\"dataframe\">\n",
       "  <thead>\n",
       "    <tr style=\"text-align: right;\">\n",
       "      <th></th>\n",
       "      <th>order_price</th>\n",
       "      <th>delivery_charges</th>\n",
       "      <th>coupon_discount</th>\n",
       "      <th>order_total</th>\n",
       "    </tr>\n",
       "  </thead>\n",
       "  <tbody>\n",
       "    <tr>\n",
       "      <th>0</th>\n",
       "      <td>12200</td>\n",
       "      <td>79.89</td>\n",
       "      <td>10</td>\n",
       "      <td>11059.89</td>\n",
       "    </tr>\n",
       "    <tr>\n",
       "      <th>1</th>\n",
       "      <td>9080</td>\n",
       "      <td>62.71</td>\n",
       "      <td>0</td>\n",
       "      <td>9142.71</td>\n",
       "    </tr>\n",
       "    <tr>\n",
       "      <th>2</th>\n",
       "      <td>10670</td>\n",
       "      <td>65.87</td>\n",
       "      <td>10</td>\n",
       "      <td>9668.87</td>\n",
       "    </tr>\n",
       "    <tr>\n",
       "      <th>3</th>\n",
       "      <td>24800</td>\n",
       "      <td>57.61</td>\n",
       "      <td>15</td>\n",
       "      <td>21137.61</td>\n",
       "    </tr>\n",
       "    <tr>\n",
       "      <th>4</th>\n",
       "      <td>9145</td>\n",
       "      <td>75.54</td>\n",
       "      <td>25</td>\n",
       "      <td>6934.29</td>\n",
       "    </tr>\n",
       "    <tr>\n",
       "      <th>...</th>\n",
       "      <td>...</td>\n",
       "      <td>...</td>\n",
       "      <td>...</td>\n",
       "      <td>...</td>\n",
       "    </tr>\n",
       "    <tr>\n",
       "      <th>495</th>\n",
       "      <td>386776</td>\n",
       "      <td>59.70</td>\n",
       "      <td>10</td>\n",
       "      <td>20174.70</td>\n",
       "    </tr>\n",
       "    <tr>\n",
       "      <th>496</th>\n",
       "      <td>22120</td>\n",
       "      <td>62.29</td>\n",
       "      <td>0</td>\n",
       "      <td>22182.29</td>\n",
       "    </tr>\n",
       "    <tr>\n",
       "      <th>497</th>\n",
       "      <td>16490</td>\n",
       "      <td>106.98</td>\n",
       "      <td>0</td>\n",
       "      <td>16596.98</td>\n",
       "    </tr>\n",
       "    <tr>\n",
       "      <th>498</th>\n",
       "      <td>5030</td>\n",
       "      <td>79.89</td>\n",
       "      <td>10</td>\n",
       "      <td>4606.89</td>\n",
       "    </tr>\n",
       "    <tr>\n",
       "      <th>499</th>\n",
       "      <td>22370</td>\n",
       "      <td>64.62</td>\n",
       "      <td>15</td>\n",
       "      <td>19079.12</td>\n",
       "    </tr>\n",
       "  </tbody>\n",
       "</table>\n",
       "<p>500 rows × 4 columns</p>\n",
       "</div>"
      ],
      "text/plain": [
       "     order_price  delivery_charges  coupon_discount  order_total\n",
       "0          12200             79.89               10     11059.89\n",
       "1           9080             62.71                0      9142.71\n",
       "2          10670             65.87               10      9668.87\n",
       "3          24800             57.61               15     21137.61\n",
       "4           9145             75.54               25      6934.29\n",
       "..           ...               ...              ...          ...\n",
       "495       386776             59.70               10     20174.70\n",
       "496        22120             62.29                0     22182.29\n",
       "497        16490            106.98                0     16596.98\n",
       "498         5030             79.89               10      4606.89\n",
       "499        22370             64.62               15     19079.12\n",
       "\n",
       "[500 rows x 4 columns]"
      ]
     },
     "execution_count": 27,
     "metadata": {},
     "output_type": "execute_result"
    }
   ],
   "source": [
    "pd.read_csv('warehouse_data.csv', usecols=['order_price', 'delivery_charges', 'coupon_discount', 'order_total'])"
   ]
  },
  {
   "cell_type": "markdown",
   "id": "736ea419",
   "metadata": {
    "papermill": {
     "duration": 0.044082,
     "end_time": "2021-09-30T10:46:37.387726",
     "exception": false,
     "start_time": "2021-09-30T10:46:37.343644",
     "status": "completed"
    },
    "tags": []
   },
   "source": [
    "### Remove Outliers\n",
    "\n",
    "We are going to remove statistical outliers in `order_total`. To remove outliers, follow this process:\n",
    "\n",
    "- Find upper and lower quartiles\n",
    "- Find IQR range\n",
    "- Find upper and lower limit\n",
    "- Remove elements "
   ]
  },
  {
   "cell_type": "code",
   "execution_count": 30,
   "id": "384baa40",
   "metadata": {
    "execution": {
     "iopub.execute_input": "2021-09-30T10:46:37.479914Z",
     "iopub.status.busy": "2021-09-30T10:46:37.479293Z",
     "iopub.status.idle": "2021-09-30T10:46:37.485615Z",
     "shell.execute_reply": "2021-09-30T10:46:37.486112Z",
     "shell.execute_reply.started": "2021-07-20T12:04:09.411353Z"
    },
    "papermill": {
     "duration": 0.053701,
     "end_time": "2021-09-30T10:46:37.486300",
     "exception": false,
     "start_time": "2021-09-30T10:46:37.432599",
     "status": "completed"
    },
    "tags": []
   },
   "outputs": [
    {
     "data": {
      "text/plain": [
       "6454.735"
      ]
     },
     "execution_count": 30,
     "metadata": {},
     "output_type": "execute_result"
    }
   ],
   "source": [
    "data['order_total'].quantile(.25)"
   ]
  },
  {
   "cell_type": "code",
   "execution_count": 31,
   "id": "16b66f48",
   "metadata": {
    "execution": {
     "iopub.execute_input": "2021-09-30T10:46:37.765589Z",
     "iopub.status.busy": "2021-09-30T10:46:37.764974Z",
     "iopub.status.idle": "2021-09-30T10:46:37.767589Z",
     "shell.execute_reply": "2021-09-30T10:46:37.768066Z",
     "shell.execute_reply.started": "2021-07-20T12:04:09.446382Z"
    },
    "papermill": {
     "duration": 0.051313,
     "end_time": "2021-09-30T10:46:37.768249",
     "exception": false,
     "start_time": "2021-09-30T10:46:37.716936",
     "status": "completed"
    },
    "tags": []
   },
   "outputs": [
    {
     "data": {
      "text/plain": [
       "18119.1875"
      ]
     },
     "execution_count": 31,
     "metadata": {},
     "output_type": "execute_result"
    }
   ],
   "source": [
    "data['order_total'].quantile(.75)"
   ]
  },
  {
   "cell_type": "code",
   "execution_count": null,
   "id": "16bd86bd",
   "metadata": {
    "execution": {
     "iopub.execute_input": "2021-09-30T10:46:38.051882Z",
     "iopub.status.busy": "2021-09-30T10:46:38.051275Z",
     "iopub.status.idle": "2021-09-30T10:46:38.054638Z",
     "shell.execute_reply": "2021-09-30T10:46:38.054049Z",
     "shell.execute_reply.started": "2021-07-20T12:04:09.464232Z"
    },
    "papermill": {
     "duration": 0.05308,
     "end_time": "2021-09-30T10:46:38.054773",
     "exception": false,
     "start_time": "2021-09-30T10:46:38.001693",
     "status": "completed"
    },
    "tags": []
   },
   "outputs": [],
   "source": []
  },
  {
   "cell_type": "code",
   "execution_count": null,
   "id": "6fe3f91e",
   "metadata": {
    "execution": {
     "iopub.execute_input": "2021-09-30T10:46:38.435307Z",
     "iopub.status.busy": "2021-09-30T10:46:38.434652Z",
     "iopub.status.idle": "2021-09-30T10:46:38.437691Z",
     "shell.execute_reply": "2021-09-30T10:46:38.437046Z",
     "shell.execute_reply.started": "2021-07-20T12:04:09.488597Z"
    },
    "papermill": {
     "duration": 0.05423,
     "end_time": "2021-09-30T10:46:38.437834",
     "exception": false,
     "start_time": "2021-09-30T10:46:38.383604",
     "status": "completed"
    },
    "tags": []
   },
   "outputs": [],
   "source": []
  },
  {
   "cell_type": "code",
   "execution_count": null,
   "id": "6a56b9b5",
   "metadata": {
    "execution": {
     "iopub.execute_input": "2021-09-30T10:46:38.950588Z",
     "iopub.status.busy": "2021-09-30T10:46:38.949590Z",
     "iopub.status.idle": "2021-09-30T10:46:38.956061Z",
     "shell.execute_reply": "2021-09-30T10:46:38.956626Z",
     "shell.execute_reply.started": "2021-07-20T12:04:09.550862Z"
    },
    "papermill": {
     "duration": 0.055961,
     "end_time": "2021-09-30T10:46:38.956811",
     "exception": false,
     "start_time": "2021-09-30T10:46:38.900850",
     "status": "completed"
    },
    "tags": []
   },
   "outputs": [],
   "source": []
  },
  {
   "cell_type": "markdown",
   "id": "aeffba8a",
   "metadata": {},
   "source": [
    "There are 18 records with outliers to remove. "
   ]
  },
  {
   "cell_type": "markdown",
   "id": "ca082f66",
   "metadata": {
    "papermill": {
     "duration": 0.040751,
     "end_time": "2021-09-30T10:46:34.949942",
     "exception": false,
     "start_time": "2021-09-30T10:46:34.909191",
     "status": "completed"
    },
    "tags": []
   },
   "source": [
    "## Explore Data\n",
    "\n",
    "Now that our data is clean, we can answer questions about it!"
   ]
  },
  {
   "cell_type": "markdown",
   "id": "ede2c25e",
   "metadata": {},
   "source": [
    "What is the largest order?"
   ]
  },
  {
   "cell_type": "code",
   "execution_count": null,
   "id": "bccaf64e",
   "metadata": {
    "execution": {
     "iopub.execute_input": "2021-09-30T10:46:35.835214Z",
     "iopub.status.busy": "2021-09-30T10:46:35.834641Z",
     "iopub.status.idle": "2021-09-30T10:46:35.869183Z",
     "shell.execute_reply": "2021-09-30T10:46:35.868717Z",
     "shell.execute_reply.started": "2021-07-20T12:04:09.24253Z"
    },
    "papermill": {
     "duration": 0.079645,
     "end_time": "2021-09-30T10:46:35.869324",
     "exception": false,
     "start_time": "2021-09-30T10:46:35.789679",
     "status": "completed"
    },
    "tags": []
   },
   "outputs": [],
   "source": []
  },
  {
   "cell_type": "markdown",
   "id": "c20e7fb9",
   "metadata": {},
   "source": [
    "What is the smallest order?"
   ]
  },
  {
   "cell_type": "code",
   "execution_count": null,
   "id": "58e17797",
   "metadata": {
    "execution": {
     "iopub.execute_input": "2021-09-30T10:46:36.059539Z",
     "iopub.status.busy": "2021-09-30T10:46:36.058830Z",
     "iopub.status.idle": "2021-09-30T10:46:36.061550Z",
     "shell.execute_reply": "2021-09-30T10:46:36.062020Z",
     "shell.execute_reply.started": "2021-07-20T12:04:09.283625Z"
    },
    "papermill": {
     "duration": 0.064029,
     "end_time": "2021-09-30T10:46:36.062186",
     "exception": false,
     "start_time": "2021-09-30T10:46:35.998157",
     "status": "completed"
    },
    "tags": []
   },
   "outputs": [],
   "source": []
  },
  {
   "cell_type": "markdown",
   "id": "b8c3b7c4",
   "metadata": {
    "papermill": {
     "duration": 0.046292,
     "end_time": "2021-09-30T10:46:39.155278",
     "exception": false,
     "start_time": "2021-09-30T10:46:39.108986",
     "status": "completed"
    },
    "tags": []
   },
   "source": [
    "Without outliers, what are the top 5 most expensive orders?"
   ]
  },
  {
   "cell_type": "code",
   "execution_count": null,
   "id": "43108500",
   "metadata": {
    "execution": {
     "iopub.execute_input": "2021-09-30T10:46:39.268246Z",
     "iopub.status.busy": "2021-09-30T10:46:39.267437Z",
     "iopub.status.idle": "2021-09-30T10:46:39.270670Z",
     "shell.execute_reply": "2021-09-30T10:46:39.271141Z",
     "shell.execute_reply.started": "2021-07-20T12:04:09.570537Z"
    },
    "papermill": {
     "duration": 0.068838,
     "end_time": "2021-09-30T10:46:39.271310",
     "exception": false,
     "start_time": "2021-09-30T10:46:39.202472",
     "status": "completed"
    },
    "tags": []
   },
   "outputs": [],
   "source": []
  },
  {
   "cell_type": "markdown",
   "id": "c14830a4",
   "metadata": {},
   "source": [
    "What warehouse is the closest to most customers? Create a visualization."
   ]
  },
  {
   "cell_type": "code",
   "execution_count": null,
   "id": "f69671eb",
   "metadata": {},
   "outputs": [],
   "source": []
  },
  {
   "cell_type": "markdown",
   "id": "b798905e",
   "metadata": {},
   "source": [
    "What percentage of customers are satisfied with their purchase? Create a visualization."
   ]
  },
  {
   "cell_type": "code",
   "execution_count": null,
   "id": "bf1527f4",
   "metadata": {},
   "outputs": [],
   "source": []
  }
 ],
 "metadata": {
  "kernelspec": {
   "display_name": "Python 3",
   "language": "python",
   "name": "python3"
  },
  "language_info": {
   "codemirror_mode": {
    "name": "ipython",
    "version": 3
   },
   "file_extension": ".py",
   "mimetype": "text/x-python",
   "name": "python",
   "nbconvert_exporter": "python",
   "pygments_lexer": "ipython3",
   "version": "3.12.3"
  },
  "papermill": {
   "default_parameters": {},
   "duration": 16.690709,
   "end_time": "2021-09-30T10:46:40.950850",
   "environment_variables": {},
   "exception": null,
   "input_path": "__notebook__.ipynb",
   "output_path": "__notebook__.ipynb",
   "parameters": {},
   "start_time": "2021-09-30T10:46:24.260141",
   "version": "2.3.3"
  }
 },
 "nbformat": 4,
 "nbformat_minor": 5
}
